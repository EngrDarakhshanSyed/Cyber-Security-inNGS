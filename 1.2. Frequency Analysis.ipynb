{
 "cells": [
  {
   "cell_type": "code",
   "execution_count": 9,
   "id": "865d31ca-f165-4e8f-9647-bac555c23842",
   "metadata": {},
   "outputs": [],
   "source": [
    "# Frequency Analysis: Count the number of responses for each category to identify common actions and behaviors.\n",
    "# For example, the frequency of different methods used to communicate cybersecurity issues. \n",
    "\n",
    "import pandas as pd"
   ]
  },
  {
   "cell_type": "code",
   "execution_count": 10,
   "id": "2dce2e0d-8340-43db-a832-5cbdf36a63de",
   "metadata": {},
   "outputs": [],
   "source": [
    "file_path = \"cleaneddata_NGS.csv\"\n",
    "df = pd.read_csv(file_path)"
   ]
  },
  {
   "cell_type": "code",
   "execution_count": 11,
   "id": "0d36459e-9a88-4041-a182-1784c0f1f5d7",
   "metadata": {},
   "outputs": [],
   "source": [
    "# Relevant columns to convert\n",
    "columns_to_analyze = [\n",
    "    #17----1\n",
    "    'How often does your organization provide cybersecurity training specifically tailored to NGS operations',\n",
    "    #19------2\n",
    "    'Does your organization have clear and accessible cybersecurity policies specific to NGS operations',\n",
    "    #20--------3\n",
    "    'Have you experienced any cybersecurity incidents or breaches related to NGS data in the past',\n",
    "    #21-----------------4\n",
    "    'How often do you participate in cybersecurity training or awareness programs specifically tailored for NGS data security',\n",
    "    #26-----------------------5\n",
    "    'How relevant do you find the cybersecurity training content to your day-to-day responsibilities',\n",
    "    #27----------------------------6\n",
    "    'Since the last cybersecurity training session, have you encountered situations where you applied the knowledge learned',\n",
    "    #28-------------------------------7\n",
    "    'In your opinion, what are the biggest barriers to implementing effective cybersecurity training in your organization (Select all that apply)',\n",
    "    #30---------------------------------8\n",
    "    'Has your organization ever experienced a cybersecurity breach that affected NGS or any other sensitive data',\n",
    "    #35--------------------------------------9\n",
    "    'Has there been a cybersecurity incident within your organization such as hacking, password stealing etc.,  that led to changes or enhancements in the training program or policy change'\n",
    "]"
   ]
  },
  {
   "cell_type": "code",
   "execution_count": 12,
   "id": "f87155da-4d36-4842-a761-a9f3c1a82b2c",
   "metadata": {},
   "outputs": [],
   "source": [
    "# Perform frequency analysis\n",
    "frequency_analysis = {}\n",
    "for col in columns_to_analyze:\n",
    "    frequency_analysis[col] = df[col].value_counts()"
   ]
  },
  {
   "cell_type": "code",
   "execution_count": 13,
   "id": "01c4e2f4-cb01-406a-8a47-c6d1d8d23ac4",
   "metadata": {},
   "outputs": [
    {
     "data": {
      "text/plain": [
       "{'How often does your organization provide cybersecurity training specifically tailored to NGS operations': How often does your organization provide cybersecurity training specifically tailored to NGS operations\n",
       " Never          31\n",
       " Annually       16\n",
       " Bi-annually     9\n",
       " Quarterly       8\n",
       " Monthly         2\n",
       " Name: count, dtype: int64,\n",
       " 'Does your organization have clear and accessible cybersecurity policies specific to NGS operations': Does your organization have clear and accessible cybersecurity policies specific to NGS operations\n",
       " Maybe    39\n",
       " Yes      14\n",
       " No       13\n",
       " Name: count, dtype: int64,\n",
       " 'Have you experienced any cybersecurity incidents or breaches related to NGS data in the past': Have you experienced any cybersecurity incidents or breaches related to NGS data in the past\n",
       " No, never experienced      53\n",
       " Yes, one incident           9\n",
       " Yes, multiple incidents     4\n",
       " Name: count, dtype: int64,\n",
       " 'How often do you participate in cybersecurity training or awareness programs specifically tailored for NGS data security': How often do you participate in cybersecurity training or awareness programs specifically tailored for NGS data security\n",
       " Never                               27\n",
       " Rarely                              21\n",
       " Occasionally (e.g., once a year)    15\n",
       " Regularly (e.g., quarterly)          3\n",
       " Name: count, dtype: int64,\n",
       " 'How relevant do you find the cybersecurity training content to your day-to-day responsibilities': How relevant do you find the cybersecurity training content to your day-to-day responsibilities\n",
       " Neutral    66\n",
       " Name: count, dtype: int64,\n",
       " 'Since the last cybersecurity training session, have you encountered situations where you applied the knowledge learned': Since the last cybersecurity training session, have you encountered situations where you applied the knowledge learned\n",
       " Never           24\n",
       " Rarely          21\n",
       " Occasionally    14\n",
       " Frequently       7\n",
       " Name: count, dtype: int64,\n",
       " 'In your opinion, what are the biggest barriers to implementing effective cybersecurity training in your organization (Select all that apply)': In your opinion, what are the biggest barriers to implementing effective cybersecurity training in your organization (Select all that apply)\n",
       " Lack of time or resources                                                                                                                                                                                  22\n",
       " Lack of management support or prioritization                                                                                                                                                               21\n",
       " Training not perceived as relevant or important by employees                                                                                                                                                8\n",
       " Insufficiently tailored content to specific roles or departments                                                                                                                                            7\n",
       " Lack of time or resources, Insufficiently tailored content to specific roles or departments, Lack of management support or prioritization, Training not perceived as relevant or important by employees     3\n",
       " Lack of management support or prioritization, Training not perceived as relevant or important by employees                                                                                                  2\n",
       " Lack of time or resources, Training not perceived as relevant or important by employees                                                                                                                     1\n",
       " Lack of time or resources, Insufficiently tailored content to specific roles or departments, Training not perceived as relevant or important by employees                                                   1\n",
       " Lack of time or resources, Insufficiently tailored content to specific roles or departments                                                                                                                 1\n",
       " Name: count, dtype: int64,\n",
       " 'Has your organization ever experienced a cybersecurity breach that affected NGS or any other sensitive data': Has your organization ever experienced a cybersecurity breach that affected NGS or any other sensitive data\n",
       " No       33\n",
       " Maybe    27\n",
       " Yes       6\n",
       " Name: count, dtype: int64,\n",
       " 'Has there been a cybersecurity incident within your organization such as hacking, password stealing etc.,  that led to changes or enhancements in the training program or policy change': Has there been a cybersecurity incident within your organization such as hacking, password stealing etc.,  that led to changes or enhancements in the training program or policy change\n",
       " Unsure    33\n",
       " No        21\n",
       " Yes       12\n",
       " Name: count, dtype: int64}"
      ]
     },
     "execution_count": 13,
     "metadata": {},
     "output_type": "execute_result"
    }
   ],
   "source": [
    "# Display the frequency analysis\n",
    "frequency_analysis"
   ]
  },
  {
   "cell_type": "code",
   "execution_count": null,
   "id": "b3356a1f-2dc8-4e09-b8c4-b341bf369287",
   "metadata": {},
   "outputs": [],
   "source": []
  }
 ],
 "metadata": {
  "kernelspec": {
   "display_name": "Python 3 (ipykernel)",
   "language": "python",
   "name": "python3"
  },
  "language_info": {
   "codemirror_mode": {
    "name": "ipython",
    "version": 3
   },
   "file_extension": ".py",
   "mimetype": "text/x-python",
   "name": "python",
   "nbconvert_exporter": "python",
   "pygments_lexer": "ipython3",
   "version": "3.11.9"
  }
 },
 "nbformat": 4,
 "nbformat_minor": 5
}
