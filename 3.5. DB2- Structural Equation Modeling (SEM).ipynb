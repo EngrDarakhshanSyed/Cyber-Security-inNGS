{
 "cells": [
  {
   "cell_type": "code",
   "execution_count": 1,
   "id": "bf651a8a-3420-4f85-bc43-dcea4ea6c91e",
   "metadata": {},
   "outputs": [],
   "source": [
    "#Summarize the provided dataset to get a sense of Cybersecurity Culture in Organizations working on NGS.\n",
    "#This includes Structural Equation Modeling (SEM): Understand the relationships between different elements of cybersecurity culture \n",
    "#and their impact on organizational behavior and user awareness.\n",
    "import pandas as pd\n",
    "from semopy import Model, Optimizer"
   ]
  },
  {
   "cell_type": "code",
   "execution_count": 2,
   "id": "35d926c6-4dd2-443a-81fa-c6e927c4b5b3",
   "metadata": {},
   "outputs": [],
   "source": [
    "file_path = \"cleaneddata_NGS.csv\"\n",
    "df = pd.read_csv(file_path)"
   ]
  },
  {
   "cell_type": "code",
   "execution_count": 3,
   "id": "1b4c9ff8-cc26-4270-8733-212e657dda77",
   "metadata": {},
   "outputs": [],
   "source": [
    "# Relevant columns to analyze\n",
    "columns_to_analyze = [\n",
    "   #Q40: \n",
    "    'In the last year, how often has cybersecurity been discussed in your meetings or other organizational communications',\n",
    "    \n",
    "    'How often do you handle sensitive NGS data that could be targeted in a cybersecurity attack',\n",
    "\n",
    "\n",
    "    #---------\n",
    "    'How often do you open emails from unknown senders as part of your work',\n",
    "\n",
    "\n",
    "    #--------\n",
    "    'Have you ever used a personal USB drive or other external storage devices to transfer NGS data',\n",
    "  # Q37\n",
    "    'How would you describe the overall culture of cybersecurity within your organization',\n",
    "    \n",
    "    'In your opinion, what are the biggest barriers to implementing effective cybersecurity training in your organization (Select all that apply)',\n",
    "    \n",
    "    'Has your organization ever experienced a cybersecurity breach that affected NGS or any other sensitive data',\n",
    "    \n",
    "    'How often does your organization provide cybersecurity training specifically tailored to NGS operations',\n",
    "    \n",
    "    'Does your organization have clear and accessible cybersecurity policies specific to NGS operations',\n",
    "   #Q41: \n",
    "    'What methods does your organization use to communicate about cybersecurity issues? (Select all that apply)'\n",
    "]"
   ]
  },
  {
   "cell_type": "code",
   "execution_count": 4,
   "id": "f6c7134a-1f75-4d75-9147-57596f93748e",
   "metadata": {},
   "outputs": [],
   "source": [
    "# Rename columns for easier reference\n",
    "df.rename(columns={\n",
    "   'In the last year, how often has cybersecurity been discussed in your meetings or other organizational communications': 'cybersecurity_discussions',\n",
    "   'How often do you handle sensitive NGS data that could be targeted in a cybersecurity attack': 'handle_sensitive_data',\n",
    "   'How often do you open emails from unknown senders as part of your work': 'open_unknown_emails',\n",
    "   'Have you ever used a personal USB drive or other external storage devices to transfer NGS data': 'used_usb_transfer',\n",
    "   'How would you describe the overall culture of cybersecurity within your organization': 'cybersecurity_culture',\n",
    "   'In your opinion, what are the biggest barriers to implementing effective cybersecurity training in your organization (Select all that apply)': 'cybersecurity_barriers',\n",
    "   'Has your organization ever experienced a cybersecurity breach that affected NGS or any other sensitive data': 'cybersecurity_breach',\n",
    "   'How often does your organization provide cybersecurity training specifically tailored to NGS operations': 'cybersecurity_training_frequency',\n",
    "   'Does your organization have clear and accessible cybersecurity policies specific to NGS operations': 'cybersecurity_policies',\n",
    "   'What methods does your organization use to communicate about cybersecurity issues (Select all that apply)': 'cybersecurity_communication_methods'\n",
    "}, inplace=True)\n",
    "\n",
    "# Update columns_to_analyze with the renamed columns\n",
    "columns_to_analyze = [\n",
    "    'cybersecurity_discussions',\n",
    "    'handle_sensitive_data',\n",
    "    'open_unknown_emails',\n",
    "    'used_usb_transfer',\n",
    "    'cybersecurity_culture',\n",
    "    'cybersecurity_barriers',\n",
    "    'cybersecurity_breach',\n",
    "    'cybersecurity_training_frequency',\n",
    "    'cybersecurity_policies',\n",
    "    'cybersecurity_communication_methods'\n",
    "]"
   ]
  },
  {
   "cell_type": "code",
   "execution_count": 5,
   "id": "fc05717f-b289-4171-98e0-6a3700c8f933",
   "metadata": {},
   "outputs": [],
   "source": [
    "# Encoding categorical variables to numerical values\n",
    "def create_frequency_mapping(df, columns):\n",
    "    unique_values = set()\n",
    "    for col in columns:\n",
    "        unique_values.update(df[col].dropna().unique())\n",
    "    \n",
    "    unique_values = sorted(list(unique_values))\n",
    "    mapping = {value: index for index, value in enumerate(unique_values)}\n",
    "    \n",
    "    return mapping"
   ]
  },
  {
   "cell_type": "code",
   "execution_count": 6,
   "id": "32bf563a-e031-42ff-94cb-e2de93d6beb2",
   "metadata": {},
   "outputs": [],
   "source": [
    "# Create frequency mapping\n",
    "frequency_mapping = create_frequency_mapping(df, columns_to_analyze)"
   ]
  },
  {
   "cell_type": "code",
   "execution_count": 7,
   "id": "56e836b4-1047-46c4-a131-807d9080d076",
   "metadata": {},
   "outputs": [],
   "source": [
    "# Convert relevant columns using the mapping\n",
    "for col in columns_to_analyze:\n",
    "    df[col] = df[col].map(frequency_mapping)"
   ]
  },
  {
   "cell_type": "code",
   "execution_count": 8,
   "id": "0a82da15-a008-4b36-a337-55be96bf8713",
   "metadata": {},
   "outputs": [],
   "source": [
    "# Drop rows with missing values\n",
    "df_cleaned = df.dropna(subset=columns_to_analyze)"
   ]
  },
  {
   "cell_type": "code",
   "execution_count": 65,
   "id": "50d65bcf-0de9-4d25-9995-c58632eae149",
   "metadata": {},
   "outputs": [],
   "source": [
    "# Define the SEM model\n",
    "model_desc = \"\"\"\n",
    "# Measurement model\n",
    "cybersecurity_culture =~ cybersecurity_discussions + cybersecurity_barriers + cybersecurity_breach + cybersecurity_policies + cybersecurity_communication_methods\n",
    "\n",
    "# Structural model\n",
    "cybersecurity_discussions ~ handle_sensitive_data + open_unknown_emails + used_usb_transfer + cybersecurity_training_frequency\n",
    "cybersecurity_culture ~ handle_sensitive_data + open_unknown_emails + used_usb_transfer + cybersecurity_training_frequency\n",
    "\"\"\""
   ]
  },
  {
   "cell_type": "code",
   "execution_count": 66,
   "id": "c179328f-1f2b-4987-beaa-1d9a34cd1091",
   "metadata": {},
   "outputs": [],
   "source": [
    "# Create the SEM model\n",
    "model = Model(model_desc)"
   ]
  },
  {
   "cell_type": "code",
   "execution_count": 67,
   "id": "3bde53f3-a3b5-40cb-873a-40e8c861e929",
   "metadata": {},
   "outputs": [],
   "source": [
    "# Load dataset into the model\n",
    "model.load_dataset(df_cleaned)\n"
   ]
  },
  {
   "cell_type": "code",
   "execution_count": 68,
   "id": "0486c35e-10e0-49ba-96c6-da5f8635281c",
   "metadata": {},
   "outputs": [
    {
     "data": {
      "text/plain": [
       "SolverResult(fun=0.31909596438058685, success=True, n_it=125, x=array([-4.66822910e-01, -1.65906387e+00, -8.58416327e-01,  6.38768111e-02,\n",
       "        5.12791587e-02,  1.86580341e-01, -2.44316371e-01,  2.82102050e-01,\n",
       "       -2.35096942e-02, -1.10806657e-01, -1.02737520e-01, -5.28981315e-02,\n",
       "        4.42506842e+01,  4.40431921e+00,  1.24445790e+02,  9.25639510e+00,\n",
       "        7.58239040e+01,  5.52897260e+01]), message='Optimization terminated successfully', name_method='SLSQP', name_obj='MLW')"
      ]
     },
     "execution_count": 68,
     "metadata": {},
     "output_type": "execute_result"
    }
   ],
   "source": [
    "# Fit the SEM model\n",
    "model.fit()"
   ]
  },
  {
   "cell_type": "code",
   "execution_count": 69,
   "id": "ae98dc6f-8ace-43e8-baa8-f38bb7579847",
   "metadata": {},
   "outputs": [
    {
     "name": "stdout",
     "output_type": "stream",
     "text": [
      "                                   lval  op  \\\n",
      "0                 cybersecurity_culture   ~   \n",
      "1                 cybersecurity_culture   ~   \n",
      "2                 cybersecurity_culture   ~   \n",
      "3                 cybersecurity_culture   ~   \n",
      "4             cybersecurity_discussions   ~   \n",
      "5                cybersecurity_barriers   ~   \n",
      "6                  cybersecurity_breach   ~   \n",
      "7                cybersecurity_policies   ~   \n",
      "8   cybersecurity_communication_methods   ~   \n",
      "9             cybersecurity_discussions   ~   \n",
      "10            cybersecurity_discussions   ~   \n",
      "11            cybersecurity_discussions   ~   \n",
      "12            cybersecurity_discussions   ~   \n",
      "13                cybersecurity_culture  ~~   \n",
      "14               cybersecurity_barriers  ~~   \n",
      "15                 cybersecurity_breach  ~~   \n",
      "16  cybersecurity_communication_methods  ~~   \n",
      "17            cybersecurity_discussions  ~~   \n",
      "18               cybersecurity_policies  ~~   \n",
      "\n",
      "                                   rval    Estimate   Std. Err   z-value  \\\n",
      "0                 handle_sensitive_data   -0.023510    0.06298 -0.373286   \n",
      "1                   open_unknown_emails   -0.110807   0.089146 -1.242978   \n",
      "2                     used_usb_transfer   -0.102738   0.089681 -1.145584   \n",
      "3      cybersecurity_training_frequency   -0.052898   0.047758  -1.10763   \n",
      "4                 cybersecurity_culture    1.000000          -         -   \n",
      "5                 cybersecurity_culture   -0.466823   0.321984 -1.449833   \n",
      "6                 cybersecurity_culture   -1.659064   1.106143 -1.499864   \n",
      "7                 cybersecurity_culture   -0.858416   0.448714 -1.913058   \n",
      "8                 cybersecurity_culture    0.063877   0.443267  0.144105   \n",
      "9                 handle_sensitive_data    0.051279   0.164086  0.312515   \n",
      "10                  open_unknown_emails    0.186580   0.155942  1.196472   \n",
      "11                    used_usb_transfer   -0.244316   0.171967 -1.420713   \n",
      "12     cybersecurity_training_frequency    0.282102    0.09436  2.989644   \n",
      "13                cybersecurity_culture    9.256395   8.748849  1.058013   \n",
      "14               cybersecurity_barriers   44.250684   7.822927  5.656538   \n",
      "15                 cybersecurity_breach    4.404319  14.348609  0.306951   \n",
      "16  cybersecurity_communication_methods  124.445790  21.664295  5.744281   \n",
      "17            cybersecurity_discussions   75.823904  14.339783   5.28766   \n",
      "18               cybersecurity_policies   55.289726   10.40425  5.314148   \n",
      "\n",
      "     p-value  \n",
      "0   0.708935  \n",
      "1   0.213876  \n",
      "2   0.251967  \n",
      "3   0.268022  \n",
      "4          -  \n",
      "5   0.147105  \n",
      "6    0.13365  \n",
      "7   0.055741  \n",
      "8   0.885418  \n",
      "9   0.754649  \n",
      "10  0.231513  \n",
      "11    0.1554  \n",
      "12  0.002793  \n",
      "13   0.29005  \n",
      "14       0.0  \n",
      "15  0.758881  \n",
      "16       0.0  \n",
      "17       0.0  \n",
      "18       0.0  \n"
     ]
    }
   ],
   "source": [
    "# Extract results\n",
    "res = model.inspect()\n",
    "\n",
    "# Display the results\n",
    "print(res)"
   ]
  },
  {
   "cell_type": "code",
   "execution_count": null,
   "id": "0dc05f58-ce32-4692-9174-55d453380d85",
   "metadata": {},
   "outputs": [],
   "source": []
  }
 ],
 "metadata": {
  "kernelspec": {
   "display_name": "Python 3 (ipykernel)",
   "language": "python",
   "name": "python3"
  },
  "language_info": {
   "codemirror_mode": {
    "name": "ipython",
    "version": 3
   },
   "file_extension": ".py",
   "mimetype": "text/x-python",
   "name": "python",
   "nbconvert_exporter": "python",
   "pygments_lexer": "ipython3",
   "version": "3.11.9"
  }
 },
 "nbformat": 4,
 "nbformat_minor": 5
}
