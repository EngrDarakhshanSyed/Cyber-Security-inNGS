{
 "cells": [
  {
   "cell_type": "code",
   "execution_count": 1,
   "id": "94cc168d-0646-4820-8971-a084027e3430",
   "metadata": {},
   "outputs": [],
   "source": [
    "#Summarize the data to get a sense of Cybersecurity Culture in Organizations working on NGS.\n",
    "#This includes Frequency Analysis: Summarize responses related to Identify common cultural attributes related \n",
    "#to cybersecurity working with Next generation Sequencing by using all the relevant questions.  \n",
    "import pandas as pd"
   ]
  },
  {
   "cell_type": "code",
   "execution_count": 2,
   "id": "ea829c0f-7abd-49a0-a87d-69373aefd193",
   "metadata": {},
   "outputs": [],
   "source": [
    "file_path = \"cleaneddata_NGS2.csv\"\n",
    "df = pd.read_csv(file_path)"
   ]
  },
  {
   "cell_type": "code",
   "execution_count": 3,
   "id": "cea76e8d-74c1-4b0a-a3e3-2ab89164bf1e",
   "metadata": {},
   "outputs": [],
   "source": [
    "# Relevant columns to analyze\n",
    "columns_to_analyze = [\n",
    "    #25\n",
    "    'How would you describe the overall culture of cybersecurity within your organization',\n",
    "    #33\n",
    "    'Do you collaborate with cybersecurity experts or professionals to enhance the security posture of NGS systems and data',\n",
    "    #36\n",
    "    'Does your organization have clear and accessible cybersecurity policies specific to NGS operations or sensitive healthcare data such as DNA sequencing data',\n",
    "    #37\n",
    "    'In the last year, how often has cybersecurity been discussed in your meetings or other organizational communications',\n",
    "    #38\n",
    "    'What methods does your organization use to communicate about cybersecurity issues (Select all that apply)'\n",
    "]"
   ]
  },
  {
   "cell_type": "code",
   "execution_count": 4,
   "id": "a115d1b1-6d3f-42b6-8ba3-181eb123182c",
   "metadata": {},
   "outputs": [],
   "source": [
    "# Rename columns to be more concise\n",
    "df.rename(columns={\n",
    "    'How would you describe the overall culture of cybersecurity within your organization' : 'Q15-overall_culture',\n",
    "    'Do you collaborate with cybersecurity experts or professionals to enhance the security posture of NGS systems and data': 'collaboration_with_experts',\n",
    "    'Does your organization have clear and accessible cybersecurity policies specific to NGS operations or sensitive healthcare data such as DNA sequencing data': 'Q13-cs_policies',\n",
    "    'In the last year, how often has cybersecurity been discussed in your meetings or other organizational communications': 'Q16-cs_meeting_discussions',\n",
    "    'What methods does your organization use to communicate about cybersecurity issues (Select all that apply)': 'Q14-cs_communication_methods'\n",
    "}, inplace=True)"
   ]
  },
  {
   "cell_type": "code",
   "execution_count": 5,
   "id": "d0744b22-6d23-4e18-ae97-634e80cac5b0",
   "metadata": {},
   "outputs": [],
   "source": [
    "# Update columns_to_analyze with the renamed columns\n",
    "columns_to_analyze = [\n",
    "    'Q15-overall_culture',\n",
    "    'collaboration_with_experts',\n",
    "    'Q13-cs_policies',\n",
    "    'Q16-cs_meeting_discussions',\n",
    "    'Q14-cs_communication_methods'\n",
    "]"
   ]
  },
  {
   "cell_type": "code",
   "execution_count": 6,
   "id": "c9b0a34a-78ce-43df-b57d-44e8e72c204a",
   "metadata": {},
   "outputs": [],
   "source": [
    "# Perform frequency analysis for each column\n",
    "frequency_analysis = {}"
   ]
  },
  {
   "cell_type": "code",
   "execution_count": 7,
   "id": "a95d0969-494b-433a-b34f-95c3f4c6fadd",
   "metadata": {},
   "outputs": [],
   "source": [
    "for col in columns_to_analyze:\n",
    "    frequency_analysis[col] = df[col].value_counts()"
   ]
  },
  {
   "cell_type": "code",
   "execution_count": 8,
   "id": "531c223a-ba92-4f38-a1fe-0cb782f290fd",
   "metadata": {},
   "outputs": [
    {
     "name": "stdout",
     "output_type": "stream",
     "text": [
      "Frequency Analysis for Q15-overall_culture:\n",
      "Q15-overall_culture\n",
      "Generally Aware: Most employees are aware of the importance of cybersecurity. There are some policies and training in place, and while not all practices are perfectly followed, there's a concerted effort to maintain security.                     30\n",
      "Strongly Proactive: Cybersecurity is a top priority for everyone, from leadership to entry-level employees. Regular training, clear communication, and effective policies are in place, actively preventing cybersecurity incidents.                  28\n",
      "Uncertain/Not Applicable: I am uncertain about the cybersecurity culture in our organization, or this question does not apply to my role/experience.                                                                                                  27\n",
      "Reactive: Cybersecurity becomes a priority only after an incident has occurred. While there are some guidelines, they are not thoroughly enforced or followed until a problem arises.                                                                  9\n",
      "Varied Awareness: Awareness and practices regarding cybersecurity vary significantly between departments or teams. Some areas of the organization may prioritize it highly, while others do not.                                                       8\n",
      "Minimal Emphasis: There is minimal emphasis on cybersecurity within the organization. Training is rare or non-existent, policies are unclear or unenforced, and there is little to no proactive behavior towards preventing cybersecurity threats.     6\n",
      "Name: count, dtype: int64\n",
      "\n",
      "Frequency Analysis for collaboration_with_experts:\n",
      "collaboration_with_experts\n",
      "No, not collaborated    52\n",
      "Yes, occasionally       38\n",
      "Yes, regularly          18\n",
      "Name: count, dtype: int64\n",
      "\n",
      "Frequency Analysis for Q13-cs_policies:\n",
      "Q13-cs_policies\n",
      "unsure    48\n",
      "may be    21\n",
      "No        20\n",
      "Yes       19\n",
      "Name: count, dtype: int64\n",
      "\n",
      "Frequency Analysis for Q16-cs_meeting_discussions:\n",
      "Q16-cs_meeting_discussions\n",
      "Rarely             46\n",
      "Frequently         30\n",
      "Never              23\n",
      "Very frequently     9\n",
      "Name: count, dtype: int64\n",
      "\n",
      "Frequency Analysis for Q14-cs_communication_methods:\n",
      "Q14-cs_communication_methods\n",
      "Never discussed                                                                          34\n",
      "Email alerts                                                                             25\n",
      "Training sessions                                                                        19\n",
      "Meetings or briefings                                                                    11\n",
      "Email alerts, Training sessions                                                           3\n",
      "Internal website or dashboard                                                             3\n",
      "Email alerts, Internal website or dashboard                                               3\n",
      "Email alerts, Internal website or dashboard, Meetings or briefings, Training sessions     3\n",
      "Meetings or briefings, Training sessions                                                  3\n",
      "Meetings or briefings, Never discussed                                                    1\n",
      "Never discussed,                                                                          1\n",
      "Email alerts, Internal website or dashboard, Meetings or briefings                        1\n",
      "Internal website or dashboard, Meetings or briefings, Training sessions                   1\n",
      "Name: count, dtype: int64\n",
      "\n"
     ]
    }
   ],
   "source": [
    "# Display the frequency analysis\n",
    "for col, counts in frequency_analysis.items():\n",
    "    print(f\"Frequency Analysis for {col}:\\n{counts}\\n\")"
   ]
  },
  {
   "cell_type": "code",
   "execution_count": null,
   "id": "919b3acf-7a0c-4037-aa85-18e93e9bb0d9",
   "metadata": {},
   "outputs": [],
   "source": []
  },
  {
   "cell_type": "code",
   "execution_count": null,
   "id": "ff99c01f-0142-4df0-b1ff-26cfbdffa4cc",
   "metadata": {},
   "outputs": [],
   "source": []
  }
 ],
 "metadata": {
  "kernelspec": {
   "display_name": "Python 3 (ipykernel)",
   "language": "python",
   "name": "python3"
  },
  "language_info": {
   "codemirror_mode": {
    "name": "ipython",
    "version": 3
   },
   "file_extension": ".py",
   "mimetype": "text/x-python",
   "name": "python",
   "nbconvert_exporter": "python",
   "pygments_lexer": "ipython3",
   "version": "3.11.9"
  }
 },
 "nbformat": 4,
 "nbformat_minor": 5
}
